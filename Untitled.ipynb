{
 "cells": [
  {
   "cell_type": "code",
   "execution_count": 1,
   "id": "35d91752",
   "metadata": {},
   "outputs": [
    {
     "name": "stdout",
     "output_type": "stream",
     "text": [
      "PDF appending completed.\n"
     ]
    }
   ],
   "source": [
    "import os\n",
    "import PyPDF2\n",
    "\n",
    "# Path to the common PDFs\n",
    "common_start_pdf = 'C:/Users/SHUBHAM AGNIHOTRI/Documents/rishabh always/Client/Client/Word_File.pdf'\n",
    "common_end_pdf = 'C:/Users/SHUBHAM AGNIHOTRI/Documents/rishabh always/Client/Client/Common PDF.pdf'\n",
    "\n",
    "# Root folder containing country-specific folders\n",
    "root_folder = \"C:/Users/SHUBHAM AGNIHOTRI/Documents/rishabh always/Client/Client\"\n",
    "\n",
    "def append_pdfs_to_client(client_folder):\n",
    "    for file in os.listdir(client_folder):\n",
    "        if file.endswith(\".pdf\"):\n",
    "            client_pdf=os.path.join(client_folder, file)\n",
    "    #client_pdf = os.path.join(client_folder, 'client.pdf')\n",
    "    client_pdf=client_pdf.replace('\\\\','/')\n",
    "    temp_pdf = os.path.join(client_folder, 'temp.pdf')\n",
    "    temp_pdf=temp_pdf.replace('\\\\','/')\n",
    "\n",
    "    # Open the client PDF and common PDFs\n",
    "    with open(client_pdf, 'rb') as client_pdf_file, open(common_start_pdf, 'rb') as start_pdf_file, open(common_end_pdf, 'rb') as end_pdf_file:\n",
    "        client_pdf_reader = PyPDF2.PdfReader(client_pdf_file)\n",
    "        start_pdf_reader = PyPDF2.PdfReader(start_pdf_file)\n",
    "        end_pdf_reader = PyPDF2.PdfReader(end_pdf_file)\n",
    "\n",
    "        # Create a PDF writer\n",
    "        pdf_writer = PyPDF2.PdfWriter()\n",
    "\n",
    "        # Append the common start PDF\n",
    "        for page_num in range(len(start_pdf_reader.pages)):\n",
    "            page = start_pdf_reader.pages[page_num]\n",
    "            pdf_writer.add_page(page)\n",
    "\n",
    "        # Append the client PDF\n",
    "        for page_num in range(len(client_pdf_reader.pages)):\n",
    "            page = client_pdf_reader.pages[page_num]\n",
    "            pdf_writer.add_page(page)\n",
    "\n",
    "        # Append the common end PDF\n",
    "        for page_num in range(len(end_pdf_reader.pages)):\n",
    "            page = end_pdf_reader.pages[page_num]\n",
    "            pdf_writer.add_page(page)\n",
    "\n",
    "        # Write the combined PDF to a temporary file\n",
    "        with open(temp_pdf, 'wb') as temp_pdf_file:\n",
    "            pdf_writer.write(temp_pdf_file)\n",
    "\n",
    "    # Replace the client PDF with the temporary PDF\n",
    "    os.remove(client_pdf)\n",
    "    os.rename(temp_pdf, client_pdf)\n",
    "\n",
    "# Traverse through the country folders\n",
    "for country_folder in os.listdir(root_folder):\n",
    "    country_path = os.path.join(root_folder, country_folder)\n",
    "    if os.path.isdir(country_path):\n",
    "        # Traverse through client folders\n",
    "        for client_folder in os.listdir(country_path):\n",
    "            client_path = os.path.join(country_path, client_folder)\n",
    "            if os.path.isdir(client_path):\n",
    "                append_pdfs_to_client(client_path)\n",
    "\n",
    "print(\"PDF appending completed.\")\n"
   ]
  }
 ],
 "metadata": {
  "kernelspec": {
   "display_name": "Python 3 (ipykernel)",
   "language": "python",
   "name": "python3"
  },
  "language_info": {
   "codemirror_mode": {
    "name": "ipython",
    "version": 3
   },
   "file_extension": ".py",
   "mimetype": "text/x-python",
   "name": "python",
   "nbconvert_exporter": "python",
   "pygments_lexer": "ipython3",
   "version": "3.11.4"
  }
 },
 "nbformat": 4,
 "nbformat_minor": 5
}
